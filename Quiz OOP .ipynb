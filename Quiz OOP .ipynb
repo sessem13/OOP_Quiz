{
 "cells": [
  {
   "cell_type": "markdown",
   "id": "1b7e756f-cdf2-4102-ae1e-fe8b43849c66",
   "metadata": {},
   "source": [
    "# I need a Game for Car \n",
    "\n",
    "when i input start print \"I'm ready to go \"\n",
    "\n",
    "when i input stop print \"Car stop\"\n",
    "\n",
    "when i input Quit stop the game \n",
    "\n",
    "and add help to help him in this choise if he didn't know --> like a massage to till him"
   ]
  },
  {
   "cell_type": "code",
   "execution_count": 27,
   "id": "63f4576d-ed25-4fb9-832a-399567f38269",
   "metadata": {},
   "outputs": [],
   "source": [
    "class Game():\n",
    "    def __init__(self, name, option):\n",
    "        self.name = name\n",
    "        self.option = option\n",
    "        \n",
    "    def help(self):\n",
    "        print(\"welcome to the Car Game ^__^ \\n\")\n",
    "        print(\"To start the game please input Start \\n\")\n",
    "        print(\"To stop the game please input Stop \\n\")\n",
    "        print(\"To quit the game input Quit\")\n",
    "        return\n",
    "    \n",
    "    def car_game(self):\n",
    "        str1 = input()\n",
    "        if (str1 == \"start\"):\n",
    "            print(\"I'm ready to go. \\n\")\n",
    "        elif (str1 == \"stop\"):\n",
    "            print(\"Car stop. \\n\")\n",
    "        elif (str1 == \"quit\"):\n",
    "            print(\"stop the game. \\n\")\n",
    "        return\n",
    "        "
   ]
  },
  {
   "cell_type": "code",
   "execution_count": 28,
   "id": "9b7f388f-f528-408a-b201-702f85824e76",
   "metadata": {},
   "outputs": [
    {
     "name": "stdout",
     "output_type": "stream",
     "text": [
      "welcome to the Car Game ^__^ \n",
      "\n",
      "To start the game please input Start \n",
      "\n",
      "To stop the game please input Stop \n",
      "\n",
      "To quit the game input Quit\n"
     ]
    }
   ],
   "source": [
    "game1 = Game(\"car\", \"start\")\n",
    "game1.help()"
   ]
  },
  {
   "cell_type": "code",
   "execution_count": 31,
   "id": "7351790d-e194-42a3-b2c6-acd84a3da816",
   "metadata": {},
   "outputs": [
    {
     "name": "stdin",
     "output_type": "stream",
     "text": [
      " quit\n"
     ]
    },
    {
     "name": "stdout",
     "output_type": "stream",
     "text": [
      "stop the game. \n",
      "\n"
     ]
    }
   ],
   "source": [
    "game1.car_game()"
   ]
  },
  {
   "cell_type": "markdown",
   "id": "66397f40-91a5-4c2b-a612-094a6732e697",
   "metadata": {},
   "source": [
    "# I need math game \n",
    "\n",
    "when i choise any number give my the maltiplcation of it like \n",
    "\n",
    "1*1=1\n",
    "\n",
    "1*2=2\n",
    "\n",
    "1*3=3\n",
    "\n",
    "so on ..."
   ]
  },
  {
   "cell_type": "code",
   "execution_count": null,
   "id": "a51e81f5-66bb-4bae-a5d7-e240c8ac710c",
   "metadata": {},
   "outputs": [],
   "source": [
    "# To help you i need a clas"
   ]
  },
  {
   "cell_type": "code",
   "execution_count": 14,
   "id": "27fbb8f5-a2d4-440d-8ccd-3e20bf5d8d33",
   "metadata": {},
   "outputs": [],
   "source": [
    "class gadwal_eldarb():\n",
    "    def __init__(self, number):\n",
    "        self.number = number\n",
    "        \n",
    "    def start_game(self):\n",
    "        gadwal = []\n",
    "        for i in range(1, self.number): # we will loop over from 1 to 8 for example\n",
    "            gadwal.append(self.number * i) # each iteration will append the new value and add it to the list\n",
    "            print(i , \"x\" , self.number , \"=\" , gadwal[i-1])\n",
    "        print(gadwal)"
   ]
  },
  {
   "cell_type": "code",
   "execution_count": 15,
   "id": "116242f5-6af9-4919-9691-fb3e441a2406",
   "metadata": {},
   "outputs": [],
   "source": [
    "gadwal8 = gadwal_eldarb(8) ## here we chose to play the game of 8, we can create any number"
   ]
  },
  {
   "cell_type": "code",
   "execution_count": 16,
   "id": "4a6b07db-3c04-4c49-8dbf-1521e30f3aca",
   "metadata": {},
   "outputs": [
    {
     "name": "stdout",
     "output_type": "stream",
     "text": [
      "1 x 8 = 8\n",
      "2 x 8 = 16\n",
      "3 x 8 = 24\n",
      "4 x 8 = 32\n",
      "5 x 8 = 40\n",
      "6 x 8 = 48\n",
      "7 x 8 = 56\n",
      "[8, 16, 24, 32, 40, 48, 56]\n"
     ]
    }
   ],
   "source": [
    "gadwal8.start_game()"
   ]
  },
  {
   "cell_type": "code",
   "execution_count": null,
   "id": "44d6d849-e63b-4bbb-ab2a-1dbcf5be791b",
   "metadata": {},
   "outputs": [],
   "source": []
  }
 ],
 "metadata": {
  "kernelspec": {
   "display_name": "Python 3 (ipykernel)",
   "language": "python",
   "name": "python3"
  },
  "language_info": {
   "codemirror_mode": {
    "name": "ipython",
    "version": 3
   },
   "file_extension": ".py",
   "mimetype": "text/x-python",
   "name": "python",
   "nbconvert_exporter": "python",
   "pygments_lexer": "ipython3",
   "version": "3.9.13"
  }
 },
 "nbformat": 4,
 "nbformat_minor": 5
}
